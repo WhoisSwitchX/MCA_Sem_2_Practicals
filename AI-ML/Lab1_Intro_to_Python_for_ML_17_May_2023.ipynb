{
  "nbformat": 4,
  "nbformat_minor": 0,
  "metadata": {
    "colab": {
      "provenance": []
    },
    "kernelspec": {
      "name": "python3",
      "display_name": "Python 3"
    },
    "language_info": {
      "name": "python"
    }
  },
  "cells": [
    {
      "cell_type": "markdown",
      "source": [
        "# Lab 1 - Introduction to Python and Python Packages for Machine Learning\n",
        "\n",
        "Date: 17 May 2023\n",
        "\n",
        "This lab 1 is a kind of tutorial which will help you to get introduced to Python and Python Packages which are popularly used to implement Machine Learning and Data Science models.\n",
        "\n",
        "We will get introduced to *Numpy*, *Scipy*, *Pandas*, *Matplotlib*, and *Scikit Learn*.\n"
      ],
      "metadata": {
        "id": "R9cu64E47qZ0"
      }
    },
    {
      "cell_type": "markdown",
      "source": [
        "## 1. **Introduction to Python**\n",
        "### 1.1 Basic Datatypes in Python"
      ],
      "metadata": {
        "id": "Hwiji3lX85GT"
      }
    },
    {
      "cell_type": "markdown",
      "source": [
        "**Numbers and Arithmetic Operations on Numbers**"
      ],
      "metadata": {
        "id": "smwc1fHT_APY"
      }
    },
    {
      "cell_type": "code",
      "execution_count": null,
      "metadata": {
        "colab": {
          "base_uri": "https://localhost:8080/"
        },
        "id": "Q3QKaLOh6xBf",
        "outputId": "f35f80ef-3627-4ea5-f243-a76cfc53125e"
      },
      "outputs": [
        {
          "output_type": "stream",
          "name": "stdout",
          "text": [
            "3\n",
            "<class 'int'>\n",
            "<class 'float'>\n"
          ]
        }
      ],
      "source": [
        "# Numbers\n",
        "x = 3\n",
        "print(x)\n",
        "print(type(x))\n",
        "\n",
        "x = 3.2\n",
        "print(type(x))"
      ]
    },
    {
      "cell_type": "code",
      "source": [
        "# Arithmetic operations in python\n",
        "x = 3\n",
        "print(type(x))\n",
        "print(x+1)\n",
        "print(x - 1)\n",
        "print(x * 2) # multiplication\n",
        "print(x ** 2) # exponentiation\n",
        "x += 1 # short-hand for x = x + 1 \n",
        "print(x)\n",
        "x *= 2\n",
        "print(x)\n",
        "y = 2.5\n",
        "print(type(y))\n",
        "print(y, y+1, y * 2, y ** 2)\n",
        "\n",
        "# Division\n",
        "x = 5\n",
        "y = 2\n",
        "print(x / y) # division\n",
        "print(x // y) #integer result - fraction gets truncated"
      ],
      "metadata": {
        "colab": {
          "base_uri": "https://localhost:8080/"
        },
        "id": "wp2EOpe19ojM",
        "outputId": "b023f957-7fde-4642-9564-c9a1fe9d969f"
      },
      "execution_count": null,
      "outputs": [
        {
          "output_type": "stream",
          "name": "stdout",
          "text": [
            "<class 'int'>\n",
            "4\n",
            "2\n",
            "6\n",
            "9\n",
            "4\n",
            "8\n",
            "<class 'float'>\n",
            "2.5 3.5 5.0 6.25\n",
            "2.5\n",
            "2\n",
            "1\n"
          ]
        }
      ]
    },
    {
      "cell_type": "markdown",
      "source": [
        "**Booleans and Logical Operations on Booleans**"
      ],
      "metadata": {
        "id": "T4pLIXlb_I4c"
      }
    },
    {
      "cell_type": "code",
      "source": [
        "t = True\n",
        "f = False\n",
        "print(type(t))\n",
        "print(t and f) # AND\n",
        "print(t or f) # OR\n",
        "print(not t) # Not\n",
        "print(t != f) # XOR"
      ],
      "metadata": {
        "colab": {
          "base_uri": "https://localhost:8080/"
        },
        "id": "MRy4WBi1_MNm",
        "outputId": "28c82808-96ee-4c58-8d63-e734d28aff41"
      },
      "execution_count": null,
      "outputs": [
        {
          "output_type": "stream",
          "name": "stdout",
          "text": [
            "<class 'bool'>\n",
            "False\n",
            "True\n",
            "False\n",
            "True\n"
          ]
        }
      ]
    },
    {
      "cell_type": "markdown",
      "source": [
        "**Strings and String Methods in Python**"
      ],
      "metadata": {
        "id": "pwHX8UGbAS65"
      }
    },
    {
      "cell_type": "code",
      "source": [
        "hello = 'Hello'\n",
        "world = \"World!\"\n",
        "print(hello)\n",
        "print(len(hello))\n",
        "hw = hello + ' ' + world\n",
        "print(hw)\n",
        "hw12 = '%s %s %d' % (hello, world, 12) # fstring formatted string\n",
        "print(hw12)"
      ],
      "metadata": {
        "colab": {
          "base_uri": "https://localhost:8080/"
        },
        "id": "iwGOcZQjAZzs",
        "outputId": "101ae0ab-61eb-4fcb-aeee-04e9fd73a41f"
      },
      "execution_count": null,
      "outputs": [
        {
          "output_type": "stream",
          "name": "stdout",
          "text": [
            "Hello\n",
            "5\n",
            "Hello World!\n",
            "Hello World! 12\n"
          ]
        }
      ]
    },
    {
      "cell_type": "code",
      "source": [
        "# String Methods\n",
        "s = \"hello\"\n",
        "print(s.capitalize())\n",
        "print(s.upper())\n",
        "print(s.lower())\n",
        "print(s.rjust(7))\n",
        "print(s.center(7))\n",
        "print(s.replace('l','(ell)'))\n",
        "print('     world'.strip())"
      ],
      "metadata": {
        "colab": {
          "base_uri": "https://localhost:8080/"
        },
        "id": "B53vwzq-Bm7e",
        "outputId": "a12bdbae-d403-4ed2-b592-ab16cd249c30"
      },
      "execution_count": null,
      "outputs": [
        {
          "output_type": "stream",
          "name": "stdout",
          "text": [
            "Hello\n",
            "HELLO\n",
            "hello\n",
            "  hello\n",
            " hello \n",
            "he(ell)(ell)o\n",
            "world\n"
          ]
        }
      ]
    },
    {
      "cell_type": "markdown",
      "source": [
        "**1.2 Container Types in Python:** Python includes several built-in container types: lists, dictionaries, tuples, and sets."
      ],
      "metadata": {
        "id": "DZe4UYzuCiIu"
      }
    },
    {
      "cell_type": "markdown",
      "source": [
        "*Lists:* A list in Python is equivalent to an array, but it is resizable and can contain elements of different types:"
      ],
      "metadata": {
        "id": "Svckn2YdC0-3"
      }
    },
    {
      "cell_type": "code",
      "source": [
        "xs = [3, 1, 2]\n",
        "print(xs, xs[2])\n",
        "print(xs[-1])\n",
        "xs[2] = 'bar bar'\n",
        "print(xs)\n",
        "xs.append('har bar')\n",
        "print(xs)\n",
        "x = xs.pop()\n",
        "print(x, xs)"
      ],
      "metadata": {
        "colab": {
          "base_uri": "https://localhost:8080/"
        },
        "id": "9Ig5W5_7Cze_",
        "outputId": "01e8dbf0-ebe5-49f0-921b-d35d04af8f7b"
      },
      "execution_count": null,
      "outputs": [
        {
          "output_type": "stream",
          "name": "stdout",
          "text": [
            "[3, 1, 2] 2\n",
            "2\n",
            "[3, 1, 'bar bar']\n",
            "[3, 1, 'bar bar', 'har bar']\n",
            "har bar [3, 1, 'bar bar']\n"
          ]
        }
      ]
    },
    {
      "cell_type": "markdown",
      "source": [
        "**List Slicing:** Python provides a concise syntax to access sublists; this is known as *slicing*"
      ],
      "metadata": {
        "id": "MyU0vPf9EMi3"
      }
    },
    {
      "cell_type": "code",
      "source": [
        "nums = list(range(5)) # range is a built-in function that creates a list of integers\n",
        "print(type(nums))\n",
        "print(nums)\n",
        "print(nums[2:4])\n",
        "print(nums[2:])\n",
        "print(nums[:2])\n",
        "print(nums[:])\n",
        "print(nums[:-1])\n",
        "nums[2:4] = [8,9]\n",
        "print(nums)"
      ],
      "metadata": {
        "colab": {
          "base_uri": "https://localhost:8080/"
        },
        "id": "gHfB-6D7Ea8m",
        "outputId": "3f3728bf-4581-451e-c052-84453bd36fb0"
      },
      "execution_count": null,
      "outputs": [
        {
          "output_type": "stream",
          "name": "stdout",
          "text": [
            "<class 'list'>\n",
            "[0, 1, 2, 3, 4]\n",
            "[2, 3]\n",
            "[2, 3, 4]\n",
            "[0, 1]\n",
            "[0, 1, 2, 3, 4]\n",
            "[0, 1, 2, 3]\n",
            "[0, 1, 8, 9, 4]\n"
          ]
        }
      ]
    },
    {
      "cell_type": "markdown",
      "source": [
        "**Loops:** You can loop over the elements of a list like this:"
      ],
      "metadata": {
        "id": "NsqAYh_ZFoeL"
      }
    },
    {
      "cell_type": "code",
      "source": [
        "animals = ['cat', 'dog', 'elephant']\n",
        "for animal in animals:\n",
        "  print(animal)"
      ],
      "metadata": {
        "colab": {
          "base_uri": "https://localhost:8080/"
        },
        "id": "DaOYl5uSFvOH",
        "outputId": "9c4a9ab5-8470-4ef9-842b-b371a57e3735"
      },
      "execution_count": null,
      "outputs": [
        {
          "output_type": "stream",
          "name": "stdout",
          "text": [
            "cat\n",
            "dog\n",
            "elephant\n"
          ]
        }
      ]
    },
    {
      "cell_type": "markdown",
      "source": [
        "**Enumerate function**:If you want to access the index of each element within the loop body you will have to use the built-in function *enumerate()*"
      ],
      "metadata": {
        "id": "28gHl2kPGKJx"
      }
    },
    {
      "cell_type": "code",
      "source": [
        "animals = ['cat','dog','elephant']\n",
        "for idx, animal in enumerate(animals):\n",
        "  print('#%d: %s' % (idx + 1, animal))"
      ],
      "metadata": {
        "colab": {
          "base_uri": "https://localhost:8080/"
        },
        "id": "mpqfVF5OGisv",
        "outputId": "2b76c34b-d398-4a1b-e10d-f550d310f84e"
      },
      "execution_count": null,
      "outputs": [
        {
          "output_type": "stream",
          "name": "stdout",
          "text": [
            "#1: cat\n",
            "#2: dog\n",
            "#3: elephant\n"
          ]
        }
      ]
    },
    {
      "cell_type": "markdown",
      "source": [
        "**List Comprehensions:** List comprehension provides a very concise syntax to construct a new list from scratch given an existing list of elements"
      ],
      "metadata": {
        "id": "Oau4379YHVHy"
      }
    },
    {
      "cell_type": "code",
      "source": [
        "# Code without List comprehension\n",
        "nums = [0,1,2,3,4]\n",
        "squares = [] \n",
        "for x in nums:\n",
        "  squares.append(x ** 2)\n",
        "print(squares)"
      ],
      "metadata": {
        "colab": {
          "base_uri": "https://localhost:8080/"
        },
        "id": "nKLtopJ4HmA7",
        "outputId": "b48326cc-6b42-46ad-b793-8ec987542191"
      },
      "execution_count": null,
      "outputs": [
        {
          "output_type": "stream",
          "name": "stdout",
          "text": [
            "[0, 1, 4, 9, 16]\n"
          ]
        }
      ]
    },
    {
      "cell_type": "code",
      "source": [
        "# The same job as done above but using List Comprehension\n",
        "nums = [0,1,2,3,4]\n",
        "squares = [x ** 2 for x in nums]\n",
        "print(squares)"
      ],
      "metadata": {
        "colab": {
          "base_uri": "https://localhost:8080/"
        },
        "id": "deNdDeZ4IEjn",
        "outputId": "b00bbb98-e572-4169-aa0f-ea7c286aec35"
      },
      "execution_count": null,
      "outputs": [
        {
          "output_type": "stream",
          "name": "stdout",
          "text": [
            "[0, 1, 4, 9, 16]\n"
          ]
        }
      ]
    },
    {
      "cell_type": "markdown",
      "source": [
        "List comprehensions can also include conditions"
      ],
      "metadata": {
        "id": "EZ_uaFSOIn1h"
      }
    },
    {
      "cell_type": "code",
      "source": [
        "nums = [0,1,2,3,4]\n",
        "even_squares = [x**2 for x in nums if x % 2 == 0]\n",
        "print(even_squares)"
      ],
      "metadata": {
        "colab": {
          "base_uri": "https://localhost:8080/"
        },
        "id": "DU3P5T0sIqxI",
        "outputId": "398817cb-8e57-48ae-8bfa-953eacfb90ed"
      },
      "execution_count": null,
      "outputs": [
        {
          "output_type": "stream",
          "name": "stdout",
          "text": [
            "[0, 4, 16]\n"
          ]
        }
      ]
    },
    {
      "cell_type": "markdown",
      "source": [
        "**Dictionaries:** This is another Container type in Python. A dictionary stores (key, value) pairs, similar to a **Map** in Java or an object in Javascript."
      ],
      "metadata": {
        "id": "Uqnt3BeAJYbM"
      }
    },
    {
      "cell_type": "code",
      "source": [
        "d = {'cat':'cute','dog':'furry'}\n",
        "print(type(d))\n",
        "print(d['cat'])\n",
        "print('cat' in d) # Check if a dictionary has a given key; Prints True\n",
        "d['fish'] = 'wet'\n",
        "print(d['fish'])\n",
        "#print(d['monkey']) # you will get a Key error\n",
        "print(d.get('monkey','N/A')) # prints an element value or a default\n",
        "print(d.get('fish','N/A'))\n",
        "del d['fish'] # removes an element from the dictionary\n",
        "print(d.get('fish','N/A'))"
      ],
      "metadata": {
        "colab": {
          "base_uri": "https://localhost:8080/"
        },
        "id": "trPzi8MnJszL",
        "outputId": "e7bad182-b938-4564-bee8-a159e8e46a0b"
      },
      "execution_count": null,
      "outputs": [
        {
          "output_type": "stream",
          "name": "stdout",
          "text": [
            "<class 'dict'>\n",
            "cute\n",
            "True\n",
            "wet\n",
            "N/A\n",
            "wet\n",
            "N/A\n"
          ]
        }
      ]
    },
    {
      "cell_type": "markdown",
      "source": [
        "**Looping over Dictionary:** It is easy to iterate over the keys in a dictionary:"
      ],
      "metadata": {
        "id": "w5sAN9piMCcp"
      }
    },
    {
      "cell_type": "code",
      "source": [
        "d = {'person':2, 'cat':4, 'spider':8}\n",
        "for animal in d:\n",
        "  legs = d[animal]\n",
        "  print('A %s has %d legs' % (animal, legs))"
      ],
      "metadata": {
        "colab": {
          "base_uri": "https://localhost:8080/"
        },
        "id": "7XeunMMlMLpb",
        "outputId": "c3674c6e-e71f-4b92-fb1c-01c6dd09c01c"
      },
      "execution_count": null,
      "outputs": [
        {
          "output_type": "stream",
          "name": "stdout",
          "text": [
            "A person has 2 legs\n",
            "A cat has 4 legs\n",
            "A spider has 8 legs\n"
          ]
        }
      ]
    },
    {
      "cell_type": "markdown",
      "source": [
        "If you want access to keys and their corresponding values, use the ***items*** method"
      ],
      "metadata": {
        "id": "98ikCw5BM-ji"
      }
    },
    {
      "cell_type": "code",
      "source": [
        "d = {'person':2, 'cat':4, 'spider':8}\n",
        "for animal, legs in d.items():\n",
        "  print('A %s has %d legs' % (animal, legs))"
      ],
      "metadata": {
        "colab": {
          "base_uri": "https://localhost:8080/"
        },
        "id": "2b1JaFNzNH6M",
        "outputId": "833566e2-c261-45d0-e00a-f9ceabde0b1a"
      },
      "execution_count": null,
      "outputs": [
        {
          "output_type": "stream",
          "name": "stdout",
          "text": [
            "A person has 2 legs\n",
            "A cat has 4 legs\n",
            "A spider has 8 legs\n"
          ]
        }
      ]
    },
    {
      "cell_type": "markdown",
      "source": [
        "**Dictionary comprehensions:** These are similar to list comprehensions, but allow you to easily construct dictionaries. For example:"
      ],
      "metadata": {
        "id": "05tkRGHuN__q"
      }
    },
    {
      "cell_type": "code",
      "source": [
        "nums =[0,1,2,3,4]\n",
        "even_num_to_square =  {x:x**2 for x in nums if x % 2 == 0}\n",
        "print(even_num_to_square)"
      ],
      "metadata": {
        "colab": {
          "base_uri": "https://localhost:8080/"
        },
        "id": "9BjCXAIdOLo8",
        "outputId": "52518215-e74e-4902-e5b3-50463a8116c2"
      },
      "execution_count": null,
      "outputs": [
        {
          "output_type": "stream",
          "name": "stdout",
          "text": [
            "{0: 0, 2: 4, 4: 16}\n"
          ]
        }
      ]
    },
    {
      "cell_type": "markdown",
      "source": [
        "**Sets:** A set is another container type like a list and a dictionary. However it is an unordered collection of distinct elements. Thus order is not maintained and duplicates are not allowed"
      ],
      "metadata": {
        "id": "E-OI-MQ0OvRK"
      }
    },
    {
      "cell_type": "code",
      "source": [
        "animals = {'cat', 'dog'}\n",
        "print('cat' in animals) # prints True\n",
        "print('fish' in animals) # prints False\n",
        "animals.add('fish')\n",
        "print('fish' in animals)\n",
        "print(len(animals))\n",
        "animals.add('cat') # nothing happens, because cat is already there\n",
        "print(len(animals))\n",
        "animals.remove('cat') # Removes an element\n",
        "print(len(animals))"
      ],
      "metadata": {
        "colab": {
          "base_uri": "https://localhost:8080/"
        },
        "id": "LkgMTSURPMkS",
        "outputId": "5c36f81d-66b6-4027-e720-e16f28c45dfa"
      },
      "execution_count": null,
      "outputs": [
        {
          "output_type": "stream",
          "name": "stdout",
          "text": [
            "True\n",
            "False\n",
            "True\n",
            "3\n",
            "3\n",
            "2\n"
          ]
        }
      ]
    },
    {
      "cell_type": "markdown",
      "source": [
        "**Looping over Sets**"
      ],
      "metadata": {
        "id": "hHZ0Uw-MQDQr"
      }
    },
    {
      "cell_type": "code",
      "source": [
        "animals = {'cat', 'dog', 'fish'}\n",
        "for idx, animal in enumerate(animals):\n",
        "  print('#%d: %s' % (idx + 1, animal))"
      ],
      "metadata": {
        "colab": {
          "base_uri": "https://localhost:8080/"
        },
        "id": "y2SUhgaDQGjL",
        "outputId": "d5298337-8177-4cb4-d707-f764e2d05ead"
      },
      "execution_count": null,
      "outputs": [
        {
          "output_type": "stream",
          "name": "stdout",
          "text": [
            "#1: cat\n",
            "#2: fish\n",
            "#3: dog\n"
          ]
        }
      ]
    },
    {
      "cell_type": "markdown",
      "source": [
        "**Set Comprehensions:** Like lists and dictionaries, we can easily construct sets using set comprehensions"
      ],
      "metadata": {
        "id": "hB3E7TNaQliI"
      }
    },
    {
      "cell_type": "code",
      "source": [
        "from math import sqrt\n",
        "nums = {int(sqrt(x)) for x in range(30)}\n",
        "print(nums)"
      ],
      "metadata": {
        "colab": {
          "base_uri": "https://localhost:8080/"
        },
        "id": "wARwRTJXQvQr",
        "outputId": "2ff44dda-c901-4347-a628-9d28203060bc"
      },
      "execution_count": null,
      "outputs": [
        {
          "output_type": "stream",
          "name": "stdout",
          "text": [
            "{0, 1, 2, 3, 4, 5}\n"
          ]
        }
      ]
    },
    {
      "cell_type": "markdown",
      "source": [
        "**Tuples:** A tuple is an (immutable) ordered list of values. A tuple is in many ways similar to a list; One of the most important differences is that tuples can be used as keys in dictionaries and as elements of sets, while lists cannot.\n",
        "\n",
        "Here is a small example:\n",
        "\n",
        "\n",
        "\n"
      ],
      "metadata": {
        "id": "MJ5pM05gRfeu"
      }
    },
    {
      "cell_type": "code",
      "source": [
        "d = {(x, x + 1): x for x in range(10)}\n",
        "t = (5,6) # Create a tuple having two elements\n",
        "print(d)\n",
        "print(type(t))\n",
        "print(d[t]) # print 5\n",
        "print(d[(1,2)]) # prints 1"
      ],
      "metadata": {
        "colab": {
          "base_uri": "https://localhost:8080/"
        },
        "id": "umY5RdySR5cK",
        "outputId": "bade8379-8c09-409a-ab16-d2a0a56f5d42"
      },
      "execution_count": null,
      "outputs": [
        {
          "output_type": "stream",
          "name": "stdout",
          "text": [
            "{(0, 1): 0, (1, 2): 1, (2, 3): 2, (3, 4): 3, (4, 5): 4, (5, 6): 5, (6, 7): 6, (7, 8): 7, (8, 9): 8, (9, 10): 9}\n",
            "<class 'tuple'>\n",
            "5\n",
            "1\n"
          ]
        }
      ]
    },
    {
      "cell_type": "markdown",
      "source": [
        "## 1.3 Functions in Python\n",
        "Python functions are defined using *def* keyword. An example:"
      ],
      "metadata": {
        "id": "jLR-k_2TTAk7"
      }
    },
    {
      "cell_type": "code",
      "source": [
        "def sign(x):\n",
        "  if x > 0:\n",
        "    return 'positive'\n",
        "  elif x < 0:\n",
        "    return 'negative'\n",
        "  else:\n",
        "    return 'zero'\n",
        "\n",
        "for x in [-1,0,1]:\n",
        "  print(sign(x))\n"
      ],
      "metadata": {
        "colab": {
          "base_uri": "https://localhost:8080/"
        },
        "id": "ySQ0aVfYTI8E",
        "outputId": "88d92a5e-cc74-40e9-dada-7cb984c5e82c"
      },
      "execution_count": null,
      "outputs": [
        {
          "output_type": "stream",
          "name": "stdout",
          "text": [
            "negative\n",
            "zero\n",
            "positive\n"
          ]
        }
      ]
    },
    {
      "cell_type": "code",
      "source": [
        "# function for implementing quick sort in Python\n",
        "def quicksort(arr):\n",
        "  if len(arr) <= 1:\n",
        "    return arr\n",
        "  pivot = arr[len(arr) // 2]\n",
        "  left = [x for x in arr if x < pivot]\n",
        "  middle = [x for x in arr if x == pivot]\n",
        "  right = [x for x in arr if x > pivot]\n",
        "\n",
        "  return quicksort(left) + middle + quicksort(right)\n",
        "\n",
        "print(quicksort([4,55,7,12,11,6,78,34,4,12,101]))"
      ],
      "metadata": {
        "colab": {
          "base_uri": "https://localhost:8080/"
        },
        "id": "n7qJ3cJbiPc6",
        "outputId": "ecf0cb6a-58d2-4f8b-a958-8ddf7d925454"
      },
      "execution_count": null,
      "outputs": [
        {
          "output_type": "stream",
          "name": "stdout",
          "text": [
            "[4, 4, 6, 7, 11, 12, 12, 34, 55, 78, 101]\n"
          ]
        }
      ]
    },
    {
      "cell_type": "code",
      "source": [
        "def hello(name, loud=False):\n",
        "  if loud:\n",
        "    print('HELLO, %s!' % name.upper())\n",
        "  else:\n",
        "    print('Hello, %s' % name)\n",
        "\n",
        "hello()\n",
        "hello('Pratik')\n",
        "hello('Pratik', loud=True)"
      ],
      "metadata": {
        "colab": {
          "base_uri": "https://localhost:8080/"
        },
        "id": "QZReafr9TvTn",
        "outputId": "c33e7ff3-51bd-4c5c-85c3-084dbfcf9052"
      },
      "execution_count": null,
      "outputs": [
        {
          "output_type": "stream",
          "name": "stdout",
          "text": [
            "Hello, Amir Khan\n",
            "Hello, Pratik\n",
            "HELLO, PRATIK!\n"
          ]
        }
      ]
    },
    {
      "cell_type": "markdown",
      "source": [
        "## 1.4 Classes in Python\n",
        "The syntax for defining classes in Python is straightforward:"
      ],
      "metadata": {
        "id": "5D7Es2lUUamE"
      }
    },
    {
      "cell_type": "code",
      "source": [
        "class Greeter(object):\n",
        "  # Constructor\n",
        "  def __init__(self, name):\n",
        "    self.name = name # create an instance variable\n",
        "\n",
        "  # Instance method\n",
        "  def greet(self,loud=False):\n",
        "    if loud:\n",
        "      print('HELLO, %s!' % self.name.upper())\n",
        "    else:\n",
        "      print('Hello, %s' % self.name)\n",
        "\n",
        "g = Greeter('Fred')\n",
        "g.greet()\n",
        "g.greet(loud=True)"
      ],
      "metadata": {
        "colab": {
          "base_uri": "https://localhost:8080/"
        },
        "id": "-zdQRUp8UjSE",
        "outputId": "a8ec29ed-ca33-4074-dfe9-1a3c8850c5f2"
      },
      "execution_count": null,
      "outputs": [
        {
          "output_type": "stream",
          "name": "stdout",
          "text": [
            "Hello, Fred\n",
            "HELLO, FRED!\n"
          ]
        }
      ]
    },
    {
      "cell_type": "markdown",
      "source": [
        "# 2. Numpy\n",
        "\n",
        "Numpy is the core library for scientific computing in Python. It provides a high-performance multi-dimensional array object, and tools for working with these arrays.\n",
        "\n",
        "## 2.1 Arrays\n",
        "A numpy array is a grid of values, all of the same type, and is indexed by a tuple of non-negative integers.\n",
        "\n",
        "**rank:** The number of dimensions is the *rank* of the array.\n",
        "\n",
        "**shape:** The *shape* of an array is a tuple of integers giving the size of the array along each dimension."
      ],
      "metadata": {
        "id": "3mSf8NGLrBcj"
      }
    },
    {
      "cell_type": "code",
      "source": [
        "import numpy as np\n",
        "\n",
        "a = np.array([1,2,3]) # create a rank 1 array\n",
        "print(a)\n",
        "print(type(a))\n",
        "print(a.shape)\n",
        "print(a.ndim) # rank or number of dimensions\n",
        "print(a[0], a[1], a[2])\n",
        "a[0] = 5\n",
        "print(a)"
      ],
      "metadata": {
        "colab": {
          "base_uri": "https://localhost:8080/"
        },
        "id": "E8UGe1qQsrTG",
        "outputId": "d24cab50-119f-49a3-bfe6-865ef7489012"
      },
      "execution_count": null,
      "outputs": [
        {
          "output_type": "stream",
          "name": "stdout",
          "text": [
            "[1 2 3]\n",
            "<class 'numpy.ndarray'>\n",
            "(3,)\n",
            "1\n",
            "1 2 3\n",
            "[5 2 3]\n"
          ]
        }
      ]
    },
    {
      "cell_type": "code",
      "source": [
        "import numpy as np\n",
        "\n",
        "b = np.array([[1,2,3],[4,5,6]]) # create an array of rank 2\n",
        "print(b)\n",
        "print(b.ndim) # rank 2 array\n",
        "print(b.shape)\n",
        "print(b[0,0],b[0,1],b[1,0])\n"
      ],
      "metadata": {
        "colab": {
          "base_uri": "https://localhost:8080/"
        },
        "id": "4D-VdW5EtlTe",
        "outputId": "dfdbd98c-aab0-4786-d8ac-a8d81614cdf6"
      },
      "execution_count": null,
      "outputs": [
        {
          "output_type": "stream",
          "name": "stdout",
          "text": [
            "[[1 2 3]\n",
            " [4 5 6]]\n",
            "2\n",
            "(2, 3)\n",
            "1 2 4\n"
          ]
        }
      ]
    },
    {
      "cell_type": "code",
      "source": [
        "# differentiating between rank 1 and rank 2 numpy arrays\n",
        "import numpy as np\n",
        "\n",
        "a = np.array([1,2,3,4,5,6]) # rank 1 array\n",
        "b = np.array([[1,2,3,4,5,6]]) # rank 2 array\n",
        "\n",
        "print('a.shape = ', a.shape, ' a.ndim = ', a.ndim)\n",
        "print('b.shape = ', b.shape, ' b.ndim = ', b.ndim)"
      ],
      "metadata": {
        "colab": {
          "base_uri": "https://localhost:8080/"
        },
        "id": "gBxmLvdZgDHa",
        "outputId": "ef4cc65c-c530-477f-bb05-dfaab333659a"
      },
      "execution_count": null,
      "outputs": [
        {
          "output_type": "stream",
          "name": "stdout",
          "text": [
            "a.shape =  (6,)  a.ndim =  1\n",
            "b.shape =  (1, 6)  b.ndim =  2\n"
          ]
        }
      ]
    },
    {
      "cell_type": "markdown",
      "source": [
        "Numpy also provides many functions to create arrays"
      ],
      "metadata": {
        "id": "pR8cDT-fumE7"
      }
    },
    {
      "cell_type": "code",
      "source": [
        "import numpy as np\n",
        "a = np.zeros((2,3)) # create an array of all zeros\n",
        "print(a)\n",
        "\n",
        "b = np.ones((1,2)) # create an array of all ones\n",
        "print(b)\n",
        "print(b.shape)\n",
        "\n",
        "c = np.full((2,2), 7) # create an array of constants\n",
        "print(c)\n",
        "\n",
        "d = np.eye(3) # create a 3 x 3 identity matrix\n",
        "print(d)\n",
        "\n",
        "e = np.random.random((2,2)) # create an array filled with random values\n",
        "print(e)"
      ],
      "metadata": {
        "colab": {
          "base_uri": "https://localhost:8080/"
        },
        "id": "juV63C0MuqAc",
        "outputId": "d7b4eea1-64c7-45b7-cc7d-d47e2ffa4932"
      },
      "execution_count": null,
      "outputs": [
        {
          "output_type": "stream",
          "name": "stdout",
          "text": [
            "[[0. 0. 0.]\n",
            " [0. 0. 0.]]\n",
            "[[1. 1.]]\n",
            "(1, 2)\n",
            "[[7 7]\n",
            " [7 7]]\n",
            "[[1. 0. 0.]\n",
            " [0. 1. 0.]\n",
            " [0. 0. 1.]]\n",
            "[[0.97018897 0.26552665]\n",
            " [0.33742753 0.8838239 ]]\n"
          ]
        }
      ]
    },
    {
      "cell_type": "markdown",
      "source": [
        "## 2.2 Array Indexing\n",
        "Numpy offers several ways to index into arrays\n",
        "\n",
        "**Slicing:** Similar to Python lists, numpy arrays can be sliced. Since arrays may be multi-dimensional, you must specify a slice for each dimension of the array:"
      ],
      "metadata": {
        "id": "EP5rVpXxwlNe"
      }
    },
    {
      "cell_type": "code",
      "source": [
        "import numpy as np\n",
        "\n",
        "# Use slicing to pull out the subarray consisting of the first 2 rows \n",
        "# and columns 1 and 2. So b will be a 2 x 2 array consisting of following elements:\n",
        "#[[2,3],\n",
        "#  [6,7]]\n",
        "a = np.array([[1,2,3,4],[5,6,7,8],[9,10,11,12]]) # create an array of rank 2 and shape (3,4)\n",
        "b = a[:2, 1:3] # shape of b = (2,2); [[2,3], [6,7]] \n",
        "\n",
        "print(a)\n",
        "print(a.shape)\n",
        "print(b)\n",
        "print(b.shape)\n",
        "\n",
        "print(a[0,1]) # prints 2\n",
        "b[0,0] = 45\n",
        "print(a[0,1]) \n",
        "\n",
        "print('a:', a)\n",
        "print('b:',b)"
      ],
      "metadata": {
        "colab": {
          "base_uri": "https://localhost:8080/"
        },
        "id": "0TdjrDnbw7wv",
        "outputId": "452c78a9-64eb-4ab9-e547-b94dccbbbbc2"
      },
      "execution_count": null,
      "outputs": [
        {
          "output_type": "stream",
          "name": "stdout",
          "text": [
            "[[ 1  2  3  4]\n",
            " [ 5  6  7  8]\n",
            " [ 9 10 11 12]]\n",
            "(3, 4)\n",
            "[[2 3]\n",
            " [6 7]]\n",
            "(2, 2)\n",
            "a: [[ 1  0  0  4]\n",
            " [ 5  0  0  8]\n",
            " [ 9 10 11 12]]\n",
            "b: [[0 0]\n",
            " [0 0]]\n"
          ]
        }
      ]
    },
    {
      "cell_type": "markdown",
      "source": [
        "What happens when mixing integer indexing with slice indexing: the rank of the resulting array reduces. An example below:"
      ],
      "metadata": {
        "id": "2437Xyp80Wik"
      }
    },
    {
      "cell_type": "code",
      "source": [
        "import numpy as np\n",
        "a = np.array([[1,2,3,4],[5,6,7,8],[9,10,11,12]])\n",
        "\n",
        "row_r1 = a[1, :] # Rank 1 view of the second row of a\n",
        "print(row_r1, row_r1.shape)\n",
        "\n",
        "row_r2 = a[1:2, :] # Rank 2 view of the second row of a\n",
        "print(row_r2, row_r2.shape)\n",
        "\n",
        "# We can make the same distinctions when accessing columns of an array\n",
        "col_r1 = a[:, 1]\n",
        "col_r2 = a[:, 1:2]\n",
        "\n",
        "print(col_r1, col_r1.shape)\n",
        "print(col_r2, col_r2.shape)"
      ],
      "metadata": {
        "colab": {
          "base_uri": "https://localhost:8080/"
        },
        "id": "sJYb2OpL0uw4",
        "outputId": "ed8e5550-87f0-4745-f26a-25f14233fe98"
      },
      "execution_count": null,
      "outputs": [
        {
          "output_type": "stream",
          "name": "stdout",
          "text": [
            "[5 6 7 8] (4,)\n",
            "[[5 6 7 8]] (1, 4)\n",
            "[ 2  6 10] (3,)\n",
            "[[ 2]\n",
            " [ 6]\n",
            " [10]] (3, 1)\n"
          ]
        }
      ]
    },
    {
      "cell_type": "markdown",
      "source": [
        "**Integer array indexing:** Allows you to construct arbitrary arrays using data from another array. Here is an example:"
      ],
      "metadata": {
        "id": "FCl5UcuB3Xwc"
      }
    },
    {
      "cell_type": "code",
      "source": [
        "import numpy as np\n",
        "a = np.array([[1,2], [3,4], [5,6]]) # a rank 2 array with shape (3,2)\n",
        "\n",
        "print(a[[0,1,2], [0,1,0]]) # Prints 1, 4 and 5\n",
        "print(a[0,0], a[1,1], a[2,0]) \n",
        "\n",
        "print(a[[0,0],[1,1]]) "
      ],
      "metadata": {
        "colab": {
          "base_uri": "https://localhost:8080/"
        },
        "id": "HHFatSUd3lcU",
        "outputId": "99f06367-ec10-4c47-c262-e56234693fa6"
      },
      "execution_count": null,
      "outputs": [
        {
          "output_type": "stream",
          "name": "stdout",
          "text": [
            "[1 4 5]\n",
            "1 4 5\n",
            "[2 2]\n"
          ]
        }
      ]
    },
    {
      "cell_type": "markdown",
      "source": [
        "One useful trick with integer array indexing is selecting or mutating one element from each row of a matrix:"
      ],
      "metadata": {
        "id": "skFpmsoI5Scu"
      }
    },
    {
      "cell_type": "code",
      "source": [
        "import numpy as np\n",
        "a = np.array([[1,2,3], [4,5,6], [7,8,9], [10,11,12]]) # a rank 2 array of shape (4,3)\n",
        "print(a)\n",
        "\n",
        "# Create an array of indices\n",
        "b = np.array([0, 2, 0, 1])\n",
        "\n",
        "print(a[np.arange(4),b]) # prints [1,6,7,11]\n",
        "\n",
        "a[np.arange(4),b] += 10\n",
        "print(a)\n"
      ],
      "metadata": {
        "colab": {
          "base_uri": "https://localhost:8080/"
        },
        "id": "D-ABZCVX56rt",
        "outputId": "80ab7a29-f37b-4095-f989-51ccf874403e"
      },
      "execution_count": null,
      "outputs": [
        {
          "output_type": "stream",
          "name": "stdout",
          "text": [
            "[[ 1  2  3]\n",
            " [ 4  5  6]\n",
            " [ 7  8  9]\n",
            " [10 11 12]]\n",
            "[ 1  6  7 11]\n",
            "[[11  2  3]\n",
            " [ 4  5 16]\n",
            " [17  8  9]\n",
            " [10 21 12]]\n"
          ]
        }
      ]
    },
    {
      "cell_type": "markdown",
      "source": [
        "**Boolean array indexing:** It lets you pick out arbitrary elements of an array. It is used to select the elements of an array that satisfy some condition.\n",
        "\n",
        "Here is an example:"
      ],
      "metadata": {
        "id": "xUzajuwp-_fu"
      }
    },
    {
      "cell_type": "code",
      "source": [
        "import numpy as np\n",
        "\n",
        "a = np.array([[1,2], [3,4], [5,6]]) # a rank 2 array of shape (3,2)\n",
        "bool_indx = (a > 2) # Find the elements of a that are bigger than 2;\n",
        "                    # this returns a numpy array of the same shape as a,\n",
        "                    # where each slot of bool_idx tells whether that element\n",
        "                    # of a is > 2\n",
        "print(bool_indx)\n",
        "print(a[bool_indx])\n",
        "print(a[a>2])"
      ],
      "metadata": {
        "colab": {
          "base_uri": "https://localhost:8080/"
        },
        "id": "3jqRHTjT_a2o",
        "outputId": "b5656d47-a482-4150-8e3c-d1b9731ec75a"
      },
      "execution_count": null,
      "outputs": [
        {
          "output_type": "stream",
          "name": "stdout",
          "text": [
            "[[False False]\n",
            " [ True  True]\n",
            " [ True  True]]\n",
            "[3 4 5 6]\n",
            "[3 4 5 6]\n"
          ]
        }
      ]
    },
    {
      "cell_type": "markdown",
      "source": [
        "## 2.3 Datatypes\n",
        "Every numpy array is a grid of elements of the same type. Numpy provides a large set of numeric datatypes that we can use to construct arrays.\n",
        "\n",
        "Numpy tries to guess a datatype when you create an array. However, an optional argument can specify the type you want."
      ],
      "metadata": {
        "id": "jTacf-ZRudfH"
      }
    },
    {
      "cell_type": "code",
      "source": [
        "import numpy as np\n",
        "\n",
        "x = np.array([1, 2]) # Let numpy choose the datatype\n",
        "print(x.dtype)\n",
        "\n",
        "x = np.array([1.0, 2.0]) # Let numpy choose the datatype\n",
        "print(x.dtype)\n",
        "\n",
        "x = np.array([1.0, 2.0], dtype=np.int64) # Force a particular datatype\n",
        "print(x.dtype)\n",
        "\n"
      ],
      "metadata": {
        "colab": {
          "base_uri": "https://localhost:8080/"
        },
        "id": "c1jWAHVovA6F",
        "outputId": "589f1fe2-5fcd-4e70-c387-d89576fd6d6a"
      },
      "execution_count": null,
      "outputs": [
        {
          "output_type": "stream",
          "name": "stdout",
          "text": [
            "int64\n",
            "float64\n",
            "int64\n"
          ]
        }
      ]
    },
    {
      "cell_type": "markdown",
      "source": [
        "## 2.4 Array Maths\n",
        "Basic mathematical functions operate element wise on arrays. "
      ],
      "metadata": {
        "id": "SFtx1aXcvze1"
      }
    },
    {
      "cell_type": "code",
      "source": [
        "import numpy as np\n",
        "\n",
        "x = np.array([[1,2], [3,4]], dtype=np.float64)\n",
        "y = np.array([[5,6], [7,8]], dtype=np.float64)\n",
        "\n",
        "# Elementwise addition\n",
        "print(x + y)\n",
        "print(np.add(x,y))\n",
        "\n",
        "# Elementwise subtraction\n",
        "print(x - y)\n",
        "print(np.subtract(x,y))\n",
        "\n",
        "# Elementwise multiplication\n",
        "print(x * y)\n",
        "print(np.multiply(x,y))\n",
        "\n",
        "# Elementwise division\n",
        "print(x / y)\n",
        "print(np.divide(x,y))\n",
        "\n",
        "# Elementwise square root\n",
        "print(np.sqrt(x))\n"
      ],
      "metadata": {
        "colab": {
          "base_uri": "https://localhost:8080/"
        },
        "id": "nCMqB5uUwCU-",
        "outputId": "c01531b3-aef1-4646-a229-e1c361636dcb"
      },
      "execution_count": null,
      "outputs": [
        {
          "output_type": "stream",
          "name": "stdout",
          "text": [
            "[[ 6.  8.]\n",
            " [10. 12.]]\n",
            "[[ 6.  8.]\n",
            " [10. 12.]]\n",
            "[[-4. -4.]\n",
            " [-4. -4.]]\n",
            "[[-4. -4.]\n",
            " [-4. -4.]]\n",
            "[[ 5. 12.]\n",
            " [21. 32.]]\n",
            "[[ 5. 12.]\n",
            " [21. 32.]]\n",
            "[[0.2        0.33333333]\n",
            " [0.42857143 0.5       ]]\n",
            "[[0.2        0.33333333]\n",
            " [0.42857143 0.5       ]]\n",
            "[[1.         1.41421356]\n",
            " [1.73205081 2.        ]]\n"
          ]
        }
      ]
    },
    {
      "cell_type": "markdown",
      "source": [
        "To do matrix or vector multiplication, we need to use *dot* function. It is useful to compute the inner dot product of two vectors, to multiply a vector by a matrix, and to multiply two matrices.\n",
        "\n",
        "***dot*** is available both as a function in the numpy module as well as an instance method in the array object:"
      ],
      "metadata": {
        "id": "5l9PikI3yite"
      }
    },
    {
      "cell_type": "code",
      "source": [
        "import numpy as np\n",
        "\n",
        "# matrices\n",
        "x = np.array([[1,2], [3,4]])\n",
        "y = np.array([[5,6], [7,8]])\n",
        "\n",
        "# vectors\n",
        "v = np.array([9,10])\n",
        "w = np.array([11,12])\n",
        "\n",
        "# Inner product of two vectors\n",
        "print(v.dot(w)) # method 1\n",
        "print(np.dot(v,w)) # method 2\n",
        "\n",
        "# Matrix/vector multiplication\n",
        "print(x.dot(v)) # shape ??\n",
        "print(np.dot(x,v))\n",
        "\n",
        "# Matrix/Matric multiplication\n",
        "print(x.dot(y))\n",
        "print(np.dot(x,y))"
      ],
      "metadata": {
        "colab": {
          "base_uri": "https://localhost:8080/"
        },
        "id": "6x4bXbtly_7Z",
        "outputId": "eca2a365-5312-404e-b835-9b589be10a9b"
      },
      "execution_count": null,
      "outputs": [
        {
          "output_type": "stream",
          "name": "stdout",
          "text": [
            "219\n",
            "219\n",
            "[29 67]\n",
            "[29 67]\n",
            "[[19 22]\n",
            " [43 50]]\n",
            "[[19 22]\n",
            " [43 50]]\n"
          ]
        }
      ]
    },
    {
      "cell_type": "markdown",
      "source": [
        "# some other mathematical functions in numpy"
      ],
      "metadata": {
        "id": "Bz5bc6Ez0Gd-"
      }
    },
    {
      "cell_type": "code",
      "source": [
        "import numpy as np\n",
        "\n",
        "x = np.array([[1,2], [3,4]])\n",
        "print(np.sum(x))\n",
        "print(np.sum(x, axis=0)) # add elements in each column\n",
        "print(np.sum(x, axis=1)) # add elements in each row\n"
      ],
      "metadata": {
        "colab": {
          "base_uri": "https://localhost:8080/"
        },
        "id": "Okeb2uLt0MU2",
        "outputId": "fa417dc8-a226-4fda-8355-ddb9dfe62247"
      },
      "execution_count": null,
      "outputs": [
        {
          "output_type": "stream",
          "name": "stdout",
          "text": [
            "10\n",
            "[4 6]\n",
            "[3 7]\n"
          ]
        }
      ]
    },
    {
      "cell_type": "markdown",
      "source": [
        "Reshaping arrays - one example is transpose operation"
      ],
      "metadata": {
        "id": "Z4CPTIT-0yKW"
      }
    },
    {
      "cell_type": "code",
      "source": [
        "import numpy as np\n",
        "x = np.array([[1,2],[3,4]])\n",
        "print(x)\n",
        "print(x.T)\n",
        "\n",
        "v = np.array([1,2,3])\n",
        "print(v)\n",
        "print(v.T)"
      ],
      "metadata": {
        "colab": {
          "base_uri": "https://localhost:8080/"
        },
        "id": "Aa9VWtew03WF",
        "outputId": "431ce61a-6002-45f5-ae75-ca92ac084b92"
      },
      "execution_count": null,
      "outputs": [
        {
          "output_type": "stream",
          "name": "stdout",
          "text": [
            "[[1 2]\n",
            " [3 4]]\n",
            "[[1 3]\n",
            " [2 4]]\n",
            "[1 2 3]\n",
            "[1 2 3]\n"
          ]
        }
      ]
    },
    {
      "cell_type": "markdown",
      "source": [
        "## 2.5 Broadcasting\n",
        "Broadcasting is a mechanism that allows numpy to work with arrays of different shapes when performing mathematical operations.\n",
        "\n",
        "Typically, the smaller tensor will be *broadcasted* to match the shape of the larger tensor.\n",
        "\n",
        "Broadcasting consists of two steps:\n",
        "1. Axes (called *broadcast axes*) are added to the smaller tensor to match the *ndim* of the larger tensor.\n",
        "2. The smaller tensor is repeated alongside these new axes to match the full shape of the larger tensor"
      ],
      "metadata": {
        "id": "NomOcLEAX2lL"
      }
    },
    {
      "cell_type": "code",
      "source": [
        "import numpy as np\n",
        "\n",
        "x = np.array([[1,2,3], [4,5,6], [7,8,9], [10,11,12]])\n",
        "v = np.array([1,0,1]) # vv = [[1,0,1],[1,0,1],[1,0,1],[1,0,1]]\n",
        "y = np.empty_like(x)\n",
        "\n",
        "for i in range(4):\n",
        "  y[i,:] = x[i,:] + v\n",
        "\n",
        "print(y)\n",
        "print(x + v) # implicitly v will be broadcasted to become a matrix of shape (4,3)\n",
        "\n",
        "z = x + 5 # scalar 5 is broadcasted\n",
        "print(z)\n",
        "\n"
      ],
      "metadata": {
        "colab": {
          "base_uri": "https://localhost:8080/"
        },
        "id": "8RCJLhI0ZeMq",
        "outputId": "48160061-8d5c-4e91-f029-9f53ee794fca"
      },
      "execution_count": null,
      "outputs": [
        {
          "output_type": "stream",
          "name": "stdout",
          "text": [
            "[[ 2  2  4]\n",
            " [ 5  5  7]\n",
            " [ 8  8 10]\n",
            " [11 11 13]]\n",
            "[[ 2  2  4]\n",
            " [ 5  5  7]\n",
            " [ 8  8 10]\n",
            " [11 11 13]]\n",
            "[[ 6  7  8]\n",
            " [ 9 10 11]\n",
            " [12 13 14]\n",
            " [15 16 17]]\n"
          ]
        }
      ]
    },
    {
      "cell_type": "markdown",
      "source": [
        "## 3 Scipy\n",
        "Numpy provides a high-performance multidimensional array and basic tools to compute and manipulate these arrays.\n",
        "\n",
        "SciPy builds on this, and provides a large number of functions that operate on numpy arrays and are useful for different types of scientific and engineering applications.\n",
        "\n",
        "## 3.1 Image Operations\n",
        "SciPy provides some basic functions to work with images. For example, it has functions to read images into numpy arrays. To write numpy arrays as images onto your disk and resize images."
      ],
      "metadata": {
        "id": "WMrdClUnbTWs"
      }
    },
    {
      "cell_type": "markdown",
      "source": [
        "# 3.2 Distance between Points\n",
        "\n",
        "The function *scipy.spatial.distance.pdist* computes the distance between all pairs of points given a set."
      ],
      "metadata": {
        "id": "4i8__xc_f2hP"
      }
    },
    {
      "cell_type": "code",
      "source": [
        "import numpy as np\n",
        "from scipy.spatial.distance import pdist, squareform\n",
        "\n",
        "x = np.array([[0,1], [1,0], [2,0]])\n",
        "print(x)\n",
        "\n",
        "d = squareform(pdist(x, 'euclidean'))\n",
        "print(d)\n"
      ],
      "metadata": {
        "colab": {
          "base_uri": "https://localhost:8080/"
        },
        "id": "VIGkfxtSgGFZ",
        "outputId": "a9e508e1-3556-4e08-8fa1-38b3bfa54f35"
      },
      "execution_count": 13,
      "outputs": [
        {
          "output_type": "stream",
          "name": "stdout",
          "text": [
            "[[0 1]\n",
            " [1 0]\n",
            " [2 0]]\n",
            "[[0.         1.41421356 2.23606798]\n",
            " [1.41421356 0.         1.        ]\n",
            " [2.23606798 1.         0.        ]]\n"
          ]
        }
      ]
    },
    {
      "cell_type": "markdown",
      "source": [
        "# 4 Pandas\n",
        "pandas is a Python library for data analysis. It is built around a data structure called as the DataFrame."
      ],
      "metadata": {
        "id": "FdezZ7I0h7Ax"
      }
    },
    {
      "cell_type": "code",
      "source": [
        "import pandas as pd\n",
        "\n",
        "data = {\"Name\" : [\"John\", \"Anna\", \"Aamir\", \"Madhuri\"], \n",
        "        \"Location\" : [\"New York\", \"Paris\", \"Mumbai\", \"Pune\"],\n",
        "        \"Age\" : [52, 25, 55, 45]\n",
        "        }\n",
        "\n",
        "data_pandas = pd.DataFrame(data)\n",
        "display(data_pandas)\n",
        "display(data_pandas[data_pandas.Age > 30])"
      ],
      "metadata": {
        "colab": {
          "base_uri": "https://localhost:8080/",
          "height": 300
        },
        "id": "Q_KD6TQ_ib6W",
        "outputId": "d54c7d9f-e4d8-4b9c-a672-308ffcb31947"
      },
      "execution_count": 15,
      "outputs": [
        {
          "output_type": "display_data",
          "data": {
            "text/plain": [
              "      Name  Location  Age\n",
              "0     John  New York   52\n",
              "1     Anna     Paris   25\n",
              "2    Aamir    Mumbai   55\n",
              "3  Madhuri      Pune   45"
            ],
            "text/html": [
              "\n",
              "  <div id=\"df-ac93ab29-9b59-4a7a-9b1b-2da670297f45\">\n",
              "    <div class=\"colab-df-container\">\n",
              "      <div>\n",
              "<style scoped>\n",
              "    .dataframe tbody tr th:only-of-type {\n",
              "        vertical-align: middle;\n",
              "    }\n",
              "\n",
              "    .dataframe tbody tr th {\n",
              "        vertical-align: top;\n",
              "    }\n",
              "\n",
              "    .dataframe thead th {\n",
              "        text-align: right;\n",
              "    }\n",
              "</style>\n",
              "<table border=\"1\" class=\"dataframe\">\n",
              "  <thead>\n",
              "    <tr style=\"text-align: right;\">\n",
              "      <th></th>\n",
              "      <th>Name</th>\n",
              "      <th>Location</th>\n",
              "      <th>Age</th>\n",
              "    </tr>\n",
              "  </thead>\n",
              "  <tbody>\n",
              "    <tr>\n",
              "      <th>0</th>\n",
              "      <td>John</td>\n",
              "      <td>New York</td>\n",
              "      <td>52</td>\n",
              "    </tr>\n",
              "    <tr>\n",
              "      <th>1</th>\n",
              "      <td>Anna</td>\n",
              "      <td>Paris</td>\n",
              "      <td>25</td>\n",
              "    </tr>\n",
              "    <tr>\n",
              "      <th>2</th>\n",
              "      <td>Aamir</td>\n",
              "      <td>Mumbai</td>\n",
              "      <td>55</td>\n",
              "    </tr>\n",
              "    <tr>\n",
              "      <th>3</th>\n",
              "      <td>Madhuri</td>\n",
              "      <td>Pune</td>\n",
              "      <td>45</td>\n",
              "    </tr>\n",
              "  </tbody>\n",
              "</table>\n",
              "</div>\n",
              "      <button class=\"colab-df-convert\" onclick=\"convertToInteractive('df-ac93ab29-9b59-4a7a-9b1b-2da670297f45')\"\n",
              "              title=\"Convert this dataframe to an interactive table.\"\n",
              "              style=\"display:none;\">\n",
              "        \n",
              "  <svg xmlns=\"http://www.w3.org/2000/svg\" height=\"24px\"viewBox=\"0 0 24 24\"\n",
              "       width=\"24px\">\n",
              "    <path d=\"M0 0h24v24H0V0z\" fill=\"none\"/>\n",
              "    <path d=\"M18.56 5.44l.94 2.06.94-2.06 2.06-.94-2.06-.94-.94-2.06-.94 2.06-2.06.94zm-11 1L8.5 8.5l.94-2.06 2.06-.94-2.06-.94L8.5 2.5l-.94 2.06-2.06.94zm10 10l.94 2.06.94-2.06 2.06-.94-2.06-.94-.94-2.06-.94 2.06-2.06.94z\"/><path d=\"M17.41 7.96l-1.37-1.37c-.4-.4-.92-.59-1.43-.59-.52 0-1.04.2-1.43.59L10.3 9.45l-7.72 7.72c-.78.78-.78 2.05 0 2.83L4 21.41c.39.39.9.59 1.41.59.51 0 1.02-.2 1.41-.59l7.78-7.78 2.81-2.81c.8-.78.8-2.07 0-2.86zM5.41 20L4 18.59l7.72-7.72 1.47 1.35L5.41 20z\"/>\n",
              "  </svg>\n",
              "      </button>\n",
              "      \n",
              "  <style>\n",
              "    .colab-df-container {\n",
              "      display:flex;\n",
              "      flex-wrap:wrap;\n",
              "      gap: 12px;\n",
              "    }\n",
              "\n",
              "    .colab-df-convert {\n",
              "      background-color: #E8F0FE;\n",
              "      border: none;\n",
              "      border-radius: 50%;\n",
              "      cursor: pointer;\n",
              "      display: none;\n",
              "      fill: #1967D2;\n",
              "      height: 32px;\n",
              "      padding: 0 0 0 0;\n",
              "      width: 32px;\n",
              "    }\n",
              "\n",
              "    .colab-df-convert:hover {\n",
              "      background-color: #E2EBFA;\n",
              "      box-shadow: 0px 1px 2px rgba(60, 64, 67, 0.3), 0px 1px 3px 1px rgba(60, 64, 67, 0.15);\n",
              "      fill: #174EA6;\n",
              "    }\n",
              "\n",
              "    [theme=dark] .colab-df-convert {\n",
              "      background-color: #3B4455;\n",
              "      fill: #D2E3FC;\n",
              "    }\n",
              "\n",
              "    [theme=dark] .colab-df-convert:hover {\n",
              "      background-color: #434B5C;\n",
              "      box-shadow: 0px 1px 3px 1px rgba(0, 0, 0, 0.15);\n",
              "      filter: drop-shadow(0px 1px 2px rgba(0, 0, 0, 0.3));\n",
              "      fill: #FFFFFF;\n",
              "    }\n",
              "  </style>\n",
              "\n",
              "      <script>\n",
              "        const buttonEl =\n",
              "          document.querySelector('#df-ac93ab29-9b59-4a7a-9b1b-2da670297f45 button.colab-df-convert');\n",
              "        buttonEl.style.display =\n",
              "          google.colab.kernel.accessAllowed ? 'block' : 'none';\n",
              "\n",
              "        async function convertToInteractive(key) {\n",
              "          const element = document.querySelector('#df-ac93ab29-9b59-4a7a-9b1b-2da670297f45');\n",
              "          const dataTable =\n",
              "            await google.colab.kernel.invokeFunction('convertToInteractive',\n",
              "                                                     [key], {});\n",
              "          if (!dataTable) return;\n",
              "\n",
              "          const docLinkHtml = 'Like what you see? Visit the ' +\n",
              "            '<a target=\"_blank\" href=https://colab.research.google.com/notebooks/data_table.ipynb>data table notebook</a>'\n",
              "            + ' to learn more about interactive tables.';\n",
              "          element.innerHTML = '';\n",
              "          dataTable['output_type'] = 'display_data';\n",
              "          await google.colab.output.renderOutput(dataTable, element);\n",
              "          const docLink = document.createElement('div');\n",
              "          docLink.innerHTML = docLinkHtml;\n",
              "          element.appendChild(docLink);\n",
              "        }\n",
              "      </script>\n",
              "    </div>\n",
              "  </div>\n",
              "  "
            ]
          },
          "metadata": {}
        },
        {
          "output_type": "display_data",
          "data": {
            "text/plain": [
              "      Name  Location  Age\n",
              "0     John  New York   52\n",
              "2    Aamir    Mumbai   55\n",
              "3  Madhuri      Pune   45"
            ],
            "text/html": [
              "\n",
              "  <div id=\"df-dd595a94-df1e-4be1-b004-90ee7c40b9d7\">\n",
              "    <div class=\"colab-df-container\">\n",
              "      <div>\n",
              "<style scoped>\n",
              "    .dataframe tbody tr th:only-of-type {\n",
              "        vertical-align: middle;\n",
              "    }\n",
              "\n",
              "    .dataframe tbody tr th {\n",
              "        vertical-align: top;\n",
              "    }\n",
              "\n",
              "    .dataframe thead th {\n",
              "        text-align: right;\n",
              "    }\n",
              "</style>\n",
              "<table border=\"1\" class=\"dataframe\">\n",
              "  <thead>\n",
              "    <tr style=\"text-align: right;\">\n",
              "      <th></th>\n",
              "      <th>Name</th>\n",
              "      <th>Location</th>\n",
              "      <th>Age</th>\n",
              "    </tr>\n",
              "  </thead>\n",
              "  <tbody>\n",
              "    <tr>\n",
              "      <th>0</th>\n",
              "      <td>John</td>\n",
              "      <td>New York</td>\n",
              "      <td>52</td>\n",
              "    </tr>\n",
              "    <tr>\n",
              "      <th>2</th>\n",
              "      <td>Aamir</td>\n",
              "      <td>Mumbai</td>\n",
              "      <td>55</td>\n",
              "    </tr>\n",
              "    <tr>\n",
              "      <th>3</th>\n",
              "      <td>Madhuri</td>\n",
              "      <td>Pune</td>\n",
              "      <td>45</td>\n",
              "    </tr>\n",
              "  </tbody>\n",
              "</table>\n",
              "</div>\n",
              "      <button class=\"colab-df-convert\" onclick=\"convertToInteractive('df-dd595a94-df1e-4be1-b004-90ee7c40b9d7')\"\n",
              "              title=\"Convert this dataframe to an interactive table.\"\n",
              "              style=\"display:none;\">\n",
              "        \n",
              "  <svg xmlns=\"http://www.w3.org/2000/svg\" height=\"24px\"viewBox=\"0 0 24 24\"\n",
              "       width=\"24px\">\n",
              "    <path d=\"M0 0h24v24H0V0z\" fill=\"none\"/>\n",
              "    <path d=\"M18.56 5.44l.94 2.06.94-2.06 2.06-.94-2.06-.94-.94-2.06-.94 2.06-2.06.94zm-11 1L8.5 8.5l.94-2.06 2.06-.94-2.06-.94L8.5 2.5l-.94 2.06-2.06.94zm10 10l.94 2.06.94-2.06 2.06-.94-2.06-.94-.94-2.06-.94 2.06-2.06.94z\"/><path d=\"M17.41 7.96l-1.37-1.37c-.4-.4-.92-.59-1.43-.59-.52 0-1.04.2-1.43.59L10.3 9.45l-7.72 7.72c-.78.78-.78 2.05 0 2.83L4 21.41c.39.39.9.59 1.41.59.51 0 1.02-.2 1.41-.59l7.78-7.78 2.81-2.81c.8-.78.8-2.07 0-2.86zM5.41 20L4 18.59l7.72-7.72 1.47 1.35L5.41 20z\"/>\n",
              "  </svg>\n",
              "      </button>\n",
              "      \n",
              "  <style>\n",
              "    .colab-df-container {\n",
              "      display:flex;\n",
              "      flex-wrap:wrap;\n",
              "      gap: 12px;\n",
              "    }\n",
              "\n",
              "    .colab-df-convert {\n",
              "      background-color: #E8F0FE;\n",
              "      border: none;\n",
              "      border-radius: 50%;\n",
              "      cursor: pointer;\n",
              "      display: none;\n",
              "      fill: #1967D2;\n",
              "      height: 32px;\n",
              "      padding: 0 0 0 0;\n",
              "      width: 32px;\n",
              "    }\n",
              "\n",
              "    .colab-df-convert:hover {\n",
              "      background-color: #E2EBFA;\n",
              "      box-shadow: 0px 1px 2px rgba(60, 64, 67, 0.3), 0px 1px 3px 1px rgba(60, 64, 67, 0.15);\n",
              "      fill: #174EA6;\n",
              "    }\n",
              "\n",
              "    [theme=dark] .colab-df-convert {\n",
              "      background-color: #3B4455;\n",
              "      fill: #D2E3FC;\n",
              "    }\n",
              "\n",
              "    [theme=dark] .colab-df-convert:hover {\n",
              "      background-color: #434B5C;\n",
              "      box-shadow: 0px 1px 3px 1px rgba(0, 0, 0, 0.15);\n",
              "      filter: drop-shadow(0px 1px 2px rgba(0, 0, 0, 0.3));\n",
              "      fill: #FFFFFF;\n",
              "    }\n",
              "  </style>\n",
              "\n",
              "      <script>\n",
              "        const buttonEl =\n",
              "          document.querySelector('#df-dd595a94-df1e-4be1-b004-90ee7c40b9d7 button.colab-df-convert');\n",
              "        buttonEl.style.display =\n",
              "          google.colab.kernel.accessAllowed ? 'block' : 'none';\n",
              "\n",
              "        async function convertToInteractive(key) {\n",
              "          const element = document.querySelector('#df-dd595a94-df1e-4be1-b004-90ee7c40b9d7');\n",
              "          const dataTable =\n",
              "            await google.colab.kernel.invokeFunction('convertToInteractive',\n",
              "                                                     [key], {});\n",
              "          if (!dataTable) return;\n",
              "\n",
              "          const docLinkHtml = 'Like what you see? Visit the ' +\n",
              "            '<a target=\"_blank\" href=https://colab.research.google.com/notebooks/data_table.ipynb>data table notebook</a>'\n",
              "            + ' to learn more about interactive tables.';\n",
              "          element.innerHTML = '';\n",
              "          dataTable['output_type'] = 'display_data';\n",
              "          await google.colab.output.renderOutput(dataTable, element);\n",
              "          const docLink = document.createElement('div');\n",
              "          docLink.innerHTML = docLinkHtml;\n",
              "          element.appendChild(docLink);\n",
              "        }\n",
              "      </script>\n",
              "    </div>\n",
              "  </div>\n",
              "  "
            ]
          },
          "metadata": {}
        }
      ]
    },
    {
      "cell_type": "markdown",
      "source": [
        "## 4. Matplotlib\n",
        "Matplotlib is a plotting library. It provides functions to visualize data and mathematical functions."
      ],
      "metadata": {
        "id": "t4pykhW7j0wT"
      }
    },
    {
      "cell_type": "code",
      "source": [
        "import numpy as np\n",
        "import matplotlib.pyplot as plt\n",
        "\n",
        "# compute x and y coordinates for points on a sine curve\n",
        "x = np.arange(0, 3 * np.pi, 0.1)\n",
        "y = np.sin(x)\n",
        "\n",
        "# Plot the points using matplotlib\n",
        "plt.plot(x, y)"
      ],
      "metadata": {
        "colab": {
          "base_uri": "https://localhost:8080/",
          "height": 448
        },
        "id": "sB6nPGQrkC16",
        "outputId": "c5f387b0-85f0-4457-9607-5ca87d8dabe8"
      },
      "execution_count": 16,
      "outputs": [
        {
          "output_type": "execute_result",
          "data": {
            "text/plain": [
              "[<matplotlib.lines.Line2D at 0x7fbfdce07e50>]"
            ]
          },
          "metadata": {},
          "execution_count": 16
        },
        {
          "output_type": "display_data",
          "data": {
            "text/plain": [
              "<Figure size 640x480 with 1 Axes>"
            ],
            "image/png": "[encoded data removed]"
          },
          "metadata": {}
        }
      ]
    },
    {
      "cell_type": "markdown",
      "source": [
        "Adding multiple plots together with title, legend etc"
      ],
      "metadata": {
        "id": "zw4ZeWFdk20H"
      }
    },
    {
      "cell_type": "code",
      "source": [
        "import numpy as np\n",
        "import matplotlib.pyplot as plt\n",
        "\n",
        "# compute x and y coordinates for points on a sine curve\n",
        "x = np.arange(0, 3 * np.pi, 0.1)\n",
        "y_sin = np.sin(x)\n",
        "y_cos = np.cos(x)\n",
        "\n",
        "plt.plot(x,y_sin)\n",
        "plt.plot(x, y_cos)\n",
        "plt.xlabel('x axis label')\n",
        "plt.ylabel('y axis label')\n",
        "plt.title('Sine and Cosine Curves')\n",
        "plt.legend(['Sine', 'Cosine'])\n"
      ],
      "metadata": {
        "colab": {
          "base_uri": "https://localhost:8080/",
          "height": 490
        },
        "id": "H70Put0Ak7C8",
        "outputId": "6c4fa95f-f2ac-4012-cae8-7980e80fe17e"
      },
      "execution_count": 19,
      "outputs": [
        {
          "output_type": "execute_result",
          "data": {
            "text/plain": [
              "<matplotlib.legend.Legend at 0x7fbfdc65e860>"
            ]
          },
          "metadata": {},
          "execution_count": 19
        },
        {
          "output_type": "display_data",
          "data": {
            "text/plain": [
              "<Figure size 640x480 with 1 Axes>"
            ],
            "image/png": "[encoded data removed]"
          },
          "metadata": {}
        }
      ]
    },
    {
      "cell_type": "markdown",
      "source": [
        "Subplots\n",
        "\n",
        "We can plot different things in the same figure using the *subplot* function\n"
      ],
      "metadata": {
        "id": "mUpbnLSMl1MT"
      }
    },
    {
      "cell_type": "code",
      "source": [
        "import numpy as np\n",
        "import matplotlib.pyplot as plt\n",
        "\n",
        "# compute x and y coordinates for points on a sine curve\n",
        "x = np.arange(0, 3 * np.pi, 0.1)\n",
        "y_sin = np.sin(x)\n",
        "y_cos = np.cos(x)\n",
        "\n",
        "# first plot\n",
        "plt.subplot(2,1,1) # setting up a subplot grid of height 2 and width 1, and first plot is active\n",
        "plt.plot(x,y_sin)\n",
        "plt.title('Sine Curve')\n",
        "\n",
        "plt.subplot(2,1,2)\n",
        "plt.plot(x, y_cos)\n",
        "plt.title('Cosine Curve')\n"
      ],
      "metadata": {
        "colab": {
          "base_uri": "https://localhost:8080/",
          "height": 470
        },
        "id": "il4XW651mAqt",
        "outputId": "d4b9d5e6-1ef0-4673-e83c-160f9749214f"
      },
      "execution_count": 20,
      "outputs": [
        {
          "output_type": "execute_result",
          "data": {
            "text/plain": [
              "Text(0.5, 1.0, 'Cosine Curve')"
            ]
          },
          "metadata": {},
          "execution_count": 20
        },
        {
          "output_type": "display_data",
          "data": {
            "text/plain": [
              "<Figure size 640x480 with 2 Axes>"
            ],
            "image/png": "[encoded data removed]"
          },
          "metadata": {}
        }
      ]
    }
  ]
}